{
 "cells": [
  {
   "cell_type": "code",
   "execution_count": 1,
   "metadata": {},
   "outputs": [],
   "source": [
    "from enum import Enum\n",
    "class FieldType(Enum):\n",
    "    NONE_FIELD = 0\n",
    "    ARABLE = 1\n",
    "    CAGE = 2\n",
    "    HOUSE = 3\n",
    "    FENCE = 4"
   ]
  },
  {
   "cell_type": "code",
   "execution_count": 2,
   "metadata": {},
   "outputs": [],
   "source": [
    "a= FieldType.NONE_FIELD"
   ]
  },
  {
   "cell_type": "code",
   "execution_count": 3,
   "metadata": {},
   "outputs": [
    {
     "name": "stdout",
     "output_type": "stream",
     "text": [
      "NONE_FIELD\n",
      "0\n"
     ]
    }
   ],
   "source": [
    "print(a.name)\n",
    "print(a.value)"
   ]
  },
  {
   "cell_type": "code",
   "execution_count": 11,
   "metadata": {},
   "outputs": [],
   "source": [
    "import random\n",
    "rand = [1,2,3]\n",
    "random.shuffle(rand)"
   ]
  },
  {
   "cell_type": "code",
   "execution_count": 12,
   "metadata": {},
   "outputs": [
    {
     "data": {
      "text/plain": [
       "[3, 1, 2]"
      ]
     },
     "execution_count": 12,
     "metadata": {},
     "output_type": "execute_result"
    }
   ],
   "source": [
    "rand"
   ]
  },
  {
   "cell_type": "code",
   "execution_count": 1,
   "metadata": {},
   "outputs": [
    {
     "name": "stdout",
     "output_type": "stream",
     "text": [
      "2 번째 로그\n",
      "3 번째 로그\n",
      "4 번째 로그\n",
      "5 번째 로그\n",
      "6 번째 로그\n"
     ]
    }
   ],
   "source": [
    "class Logger:\n",
    "    def __init__(self, max_lines=5):\n",
    "        self.max_lines = max_lines\n",
    "        self.log_list = []\n",
    "\n",
    "    def add_log(self, new_message):\n",
    "        # 새로운 메시지 추가\n",
    "        self.log_list.append(new_message)\n",
    "        \n",
    "        # 로그가 최대 줄 수를 넘으면 가장 오래된 로그 삭제\n",
    "        if len(self.log_list) > self.max_lines:\n",
    "            self.log_list.pop(0)\n",
    "    \n",
    "    def get_logs(self):\n",
    "        # 현재 저장된 모든 로그를 하나의 문자열로 반환\n",
    "        return \"\\n\".join(self.log_list)\n",
    "\n",
    "# Logger 객체 생성\n",
    "logger = Logger()\n",
    "\n",
    "# 로그 함수 테스트\n",
    "logger.add_log(\"1\")\n",
    "logger.add_log(\"2 번째 로그\")\n",
    "logger.add_log(\"3 번째 로그\")\n",
    "logger.add_log(\"4 번째 로그\")\n",
    "logger.add_log(\"5 번째 로그\")\n",
    "logger.add_log(\"6 번째 로그\")\n",
    "\n",
    "# 저장된 로그 출력\n",
    "print(logger.get_logs())"
   ]
  },
  {
   "cell_type": "code",
   "execution_count": 12,
   "metadata": {},
   "outputs": [],
   "source": [
    "\n",
    "def gamestart():pass\n",
    "def move_worker_to_roundcard(player,roundcard_index):\n",
    "    return True\n",
    "def move_animal_to_field(animal,filed_index):\n",
    "    return True\n",
    "# def ():pass\n",
    "# def ():pass\n",
    "# def ():pass\n",
    "# def ():pass\n",
    "# def ():pass\n",
    "# def ():pass\n",
    "# def ():pass\n",
    "\n"
   ]
  },
  {
   "cell_type": "code",
   "execution_count": 13,
   "metadata": {},
   "outputs": [],
   "source": [
    "gamestart()"
   ]
  },
  {
   "cell_type": "code",
   "execution_count": 14,
   "metadata": {},
   "outputs": [],
   "source": [
    "while True:\n",
    "    if move_worker_to_roundcard(1,1):break"
   ]
  },
  {
   "cell_type": "code",
   "execution_count": 15,
   "metadata": {},
   "outputs": [],
   "source": [
    "#양 두마리를 얻었다고 가정"
   ]
  },
  {
   "cell_type": "code",
   "execution_count": 16,
   "metadata": {},
   "outputs": [],
   "source": [
    "while True:\n",
    "    if move_animal_to_field(\"sheep\",1):break"
   ]
  },
  {
   "cell_type": "code",
   "execution_count": 1,
   "metadata": {},
   "outputs": [
    {
     "name": "stdout",
     "output_type": "stream",
     "text": [
      "Collecting pydubNote: you may need to restart the kernel to use updated packages.\n"
     ]
    },
    {
     "name": "stderr",
     "output_type": "stream",
     "text": [
      "WARNING: You are using pip version 22.0.4; however, version 24.0 is available.\n",
      "You should consider upgrading via the 'c:\\Users\\js000\\AppData\\Local\\Programs\\Python\\Python39\\python.exe -m pip install --upgrade pip' command.\n"
     ]
    },
    {
     "name": "stdout",
     "output_type": "stream",
     "text": [
      "\n",
      "  Downloading pydub-0.25.1-py2.py3-none-any.whl (32 kB)\n",
      "Installing collected packages: pydub\n",
      "Successfully installed pydub-0.25.1\n"
     ]
    }
   ],
   "source": [
    "pip install pydub"
   ]
  },
  {
   "cell_type": "code",
   "execution_count": 8,
   "metadata": {},
   "outputs": [
    {
     "name": "stderr",
     "output_type": "stream",
     "text": [
      "c:\\Users\\js000\\AppData\\Local\\Programs\\Python\\Python39\\lib\\site-packages\\pydub\\utils.py:198: RuntimeWarning: Couldn't find ffprobe or avprobe - defaulting to ffprobe, but may not work\n",
      "  warn(\"Couldn't find ffprobe or avprobe - defaulting to ffprobe, but may not work\", RuntimeWarning)\n"
     ]
    },
    {
     "ename": "FileNotFoundError",
     "evalue": "[WinError 2] 지정된 파일을 찾을 수 없습니다",
     "output_type": "error",
     "traceback": [
      "\u001b[1;31m---------------------------------------------------------------------------\u001b[0m",
      "\u001b[1;31mFileNotFoundError\u001b[0m                         Traceback (most recent call last)",
      "Cell \u001b[1;32mIn[8], line 4\u001b[0m\n\u001b[0;32m      1\u001b[0m \u001b[38;5;28;01mfrom\u001b[39;00m \u001b[38;5;21;01mpydub\u001b[39;00m \u001b[38;5;28;01mimport\u001b[39;00m AudioSegment\n\u001b[0;32m      3\u001b[0m \u001b[38;5;66;03m# m4a 파일을 mp3로 변환\u001b[39;00m\n\u001b[1;32m----> 4\u001b[0m audio \u001b[38;5;241m=\u001b[39m \u001b[43mAudioSegment\u001b[49m\u001b[38;5;241;43m.\u001b[39;49m\u001b[43mfrom_file\u001b[49m\u001b[43m(\u001b[49m\u001b[38;5;124;43m\"\u001b[39;49m\u001b[38;5;124;43mstrongcowsound.m4a\u001b[39;49m\u001b[38;5;124;43m\"\u001b[39;49m\u001b[43m,\u001b[49m\u001b[43m \u001b[49m\u001b[38;5;28;43mformat\u001b[39;49m\u001b[38;5;241;43m=\u001b[39;49m\u001b[38;5;124;43m\"\u001b[39;49m\u001b[38;5;124;43mm4a\u001b[39;49m\u001b[38;5;124;43m\"\u001b[39;49m\u001b[43m)\u001b[49m\n\u001b[0;32m      5\u001b[0m audio\u001b[38;5;241m.\u001b[39mexport(\u001b[38;5;124m\"\u001b[39m\u001b[38;5;124mstrongcowsound.mp3\u001b[39m\u001b[38;5;124m\"\u001b[39m, \u001b[38;5;28mformat\u001b[39m\u001b[38;5;241m=\u001b[39m\u001b[38;5;124m\"\u001b[39m\u001b[38;5;124mmp3\u001b[39m\u001b[38;5;124m\"\u001b[39m)\n",
      "File \u001b[1;32mc:\\Users\\js000\\AppData\\Local\\Programs\\Python\\Python39\\lib\\site-packages\\pydub\\audio_segment.py:728\u001b[0m, in \u001b[0;36mAudioSegment.from_file\u001b[1;34m(cls, file, format, codec, parameters, start_second, duration, **kwargs)\u001b[0m\n\u001b[0;32m    726\u001b[0m     info \u001b[38;5;241m=\u001b[39m \u001b[38;5;28;01mNone\u001b[39;00m\n\u001b[0;32m    727\u001b[0m \u001b[38;5;28;01melse\u001b[39;00m:\n\u001b[1;32m--> 728\u001b[0m     info \u001b[38;5;241m=\u001b[39m \u001b[43mmediainfo_json\u001b[49m\u001b[43m(\u001b[49m\u001b[43morig_file\u001b[49m\u001b[43m,\u001b[49m\u001b[43m \u001b[49m\u001b[43mread_ahead_limit\u001b[49m\u001b[38;5;241;43m=\u001b[39;49m\u001b[43mread_ahead_limit\u001b[49m\u001b[43m)\u001b[49m\n\u001b[0;32m    729\u001b[0m \u001b[38;5;28;01mif\u001b[39;00m info:\n\u001b[0;32m    730\u001b[0m     audio_streams \u001b[38;5;241m=\u001b[39m [x \u001b[38;5;28;01mfor\u001b[39;00m x \u001b[38;5;129;01min\u001b[39;00m info[\u001b[38;5;124m'\u001b[39m\u001b[38;5;124mstreams\u001b[39m\u001b[38;5;124m'\u001b[39m]\n\u001b[0;32m    731\u001b[0m                      \u001b[38;5;28;01mif\u001b[39;00m x[\u001b[38;5;124m'\u001b[39m\u001b[38;5;124mcodec_type\u001b[39m\u001b[38;5;124m'\u001b[39m] \u001b[38;5;241m==\u001b[39m \u001b[38;5;124m'\u001b[39m\u001b[38;5;124maudio\u001b[39m\u001b[38;5;124m'\u001b[39m]\n",
      "File \u001b[1;32mc:\\Users\\js000\\AppData\\Local\\Programs\\Python\\Python39\\lib\\site-packages\\pydub\\utils.py:274\u001b[0m, in \u001b[0;36mmediainfo_json\u001b[1;34m(filepath, read_ahead_limit)\u001b[0m\n\u001b[0;32m    271\u001b[0m         file\u001b[38;5;241m.\u001b[39mclose()\n\u001b[0;32m    273\u001b[0m command \u001b[38;5;241m=\u001b[39m [prober, \u001b[38;5;124m'\u001b[39m\u001b[38;5;124m-of\u001b[39m\u001b[38;5;124m'\u001b[39m, \u001b[38;5;124m'\u001b[39m\u001b[38;5;124mjson\u001b[39m\u001b[38;5;124m'\u001b[39m] \u001b[38;5;241m+\u001b[39m command_args\n\u001b[1;32m--> 274\u001b[0m res \u001b[38;5;241m=\u001b[39m \u001b[43mPopen\u001b[49m\u001b[43m(\u001b[49m\u001b[43mcommand\u001b[49m\u001b[43m,\u001b[49m\u001b[43m \u001b[49m\u001b[43mstdin\u001b[49m\u001b[38;5;241;43m=\u001b[39;49m\u001b[43mstdin_parameter\u001b[49m\u001b[43m,\u001b[49m\u001b[43m \u001b[49m\u001b[43mstdout\u001b[49m\u001b[38;5;241;43m=\u001b[39;49m\u001b[43mPIPE\u001b[49m\u001b[43m,\u001b[49m\u001b[43m \u001b[49m\u001b[43mstderr\u001b[49m\u001b[38;5;241;43m=\u001b[39;49m\u001b[43mPIPE\u001b[49m\u001b[43m)\u001b[49m\n\u001b[0;32m    275\u001b[0m output, stderr \u001b[38;5;241m=\u001b[39m res\u001b[38;5;241m.\u001b[39mcommunicate(\u001b[38;5;28minput\u001b[39m\u001b[38;5;241m=\u001b[39mstdin_data)\n\u001b[0;32m    276\u001b[0m output \u001b[38;5;241m=\u001b[39m output\u001b[38;5;241m.\u001b[39mdecode(\u001b[38;5;124m\"\u001b[39m\u001b[38;5;124mutf-8\u001b[39m\u001b[38;5;124m\"\u001b[39m, \u001b[38;5;124m'\u001b[39m\u001b[38;5;124mignore\u001b[39m\u001b[38;5;124m'\u001b[39m)\n",
      "File \u001b[1;32mc:\\Users\\js000\\AppData\\Local\\Programs\\Python\\Python39\\lib\\subprocess.py:951\u001b[0m, in \u001b[0;36mPopen.__init__\u001b[1;34m(self, args, bufsize, executable, stdin, stdout, stderr, preexec_fn, close_fds, shell, cwd, env, universal_newlines, startupinfo, creationflags, restore_signals, start_new_session, pass_fds, user, group, extra_groups, encoding, errors, text, umask)\u001b[0m\n\u001b[0;32m    947\u001b[0m         \u001b[38;5;28;01mif\u001b[39;00m \u001b[38;5;28mself\u001b[39m\u001b[38;5;241m.\u001b[39mtext_mode:\n\u001b[0;32m    948\u001b[0m             \u001b[38;5;28mself\u001b[39m\u001b[38;5;241m.\u001b[39mstderr \u001b[38;5;241m=\u001b[39m io\u001b[38;5;241m.\u001b[39mTextIOWrapper(\u001b[38;5;28mself\u001b[39m\u001b[38;5;241m.\u001b[39mstderr,\n\u001b[0;32m    949\u001b[0m                     encoding\u001b[38;5;241m=\u001b[39mencoding, errors\u001b[38;5;241m=\u001b[39merrors)\n\u001b[1;32m--> 951\u001b[0m     \u001b[38;5;28;43mself\u001b[39;49m\u001b[38;5;241;43m.\u001b[39;49m\u001b[43m_execute_child\u001b[49m\u001b[43m(\u001b[49m\u001b[43margs\u001b[49m\u001b[43m,\u001b[49m\u001b[43m \u001b[49m\u001b[43mexecutable\u001b[49m\u001b[43m,\u001b[49m\u001b[43m \u001b[49m\u001b[43mpreexec_fn\u001b[49m\u001b[43m,\u001b[49m\u001b[43m \u001b[49m\u001b[43mclose_fds\u001b[49m\u001b[43m,\u001b[49m\n\u001b[0;32m    952\u001b[0m \u001b[43m                        \u001b[49m\u001b[43mpass_fds\u001b[49m\u001b[43m,\u001b[49m\u001b[43m \u001b[49m\u001b[43mcwd\u001b[49m\u001b[43m,\u001b[49m\u001b[43m \u001b[49m\u001b[43menv\u001b[49m\u001b[43m,\u001b[49m\n\u001b[0;32m    953\u001b[0m \u001b[43m                        \u001b[49m\u001b[43mstartupinfo\u001b[49m\u001b[43m,\u001b[49m\u001b[43m \u001b[49m\u001b[43mcreationflags\u001b[49m\u001b[43m,\u001b[49m\u001b[43m \u001b[49m\u001b[43mshell\u001b[49m\u001b[43m,\u001b[49m\n\u001b[0;32m    954\u001b[0m \u001b[43m                        \u001b[49m\u001b[43mp2cread\u001b[49m\u001b[43m,\u001b[49m\u001b[43m \u001b[49m\u001b[43mp2cwrite\u001b[49m\u001b[43m,\u001b[49m\n\u001b[0;32m    955\u001b[0m \u001b[43m                        \u001b[49m\u001b[43mc2pread\u001b[49m\u001b[43m,\u001b[49m\u001b[43m \u001b[49m\u001b[43mc2pwrite\u001b[49m\u001b[43m,\u001b[49m\n\u001b[0;32m    956\u001b[0m \u001b[43m                        \u001b[49m\u001b[43merrread\u001b[49m\u001b[43m,\u001b[49m\u001b[43m \u001b[49m\u001b[43merrwrite\u001b[49m\u001b[43m,\u001b[49m\n\u001b[0;32m    957\u001b[0m \u001b[43m                        \u001b[49m\u001b[43mrestore_signals\u001b[49m\u001b[43m,\u001b[49m\n\u001b[0;32m    958\u001b[0m \u001b[43m                        \u001b[49m\u001b[43mgid\u001b[49m\u001b[43m,\u001b[49m\u001b[43m \u001b[49m\u001b[43mgids\u001b[49m\u001b[43m,\u001b[49m\u001b[43m \u001b[49m\u001b[43muid\u001b[49m\u001b[43m,\u001b[49m\u001b[43m \u001b[49m\u001b[43mumask\u001b[49m\u001b[43m,\u001b[49m\n\u001b[0;32m    959\u001b[0m \u001b[43m                        \u001b[49m\u001b[43mstart_new_session\u001b[49m\u001b[43m)\u001b[49m\n\u001b[0;32m    960\u001b[0m \u001b[38;5;28;01mexcept\u001b[39;00m:\n\u001b[0;32m    961\u001b[0m     \u001b[38;5;66;03m# Cleanup if the child failed starting.\u001b[39;00m\n\u001b[0;32m    962\u001b[0m     \u001b[38;5;28;01mfor\u001b[39;00m f \u001b[38;5;129;01min\u001b[39;00m \u001b[38;5;28mfilter\u001b[39m(\u001b[38;5;28;01mNone\u001b[39;00m, (\u001b[38;5;28mself\u001b[39m\u001b[38;5;241m.\u001b[39mstdin, \u001b[38;5;28mself\u001b[39m\u001b[38;5;241m.\u001b[39mstdout, \u001b[38;5;28mself\u001b[39m\u001b[38;5;241m.\u001b[39mstderr)):\n",
      "File \u001b[1;32mc:\\Users\\js000\\AppData\\Local\\Programs\\Python\\Python39\\lib\\subprocess.py:1420\u001b[0m, in \u001b[0;36mPopen._execute_child\u001b[1;34m(self, args, executable, preexec_fn, close_fds, pass_fds, cwd, env, startupinfo, creationflags, shell, p2cread, p2cwrite, c2pread, c2pwrite, errread, errwrite, unused_restore_signals, unused_gid, unused_gids, unused_uid, unused_umask, unused_start_new_session)\u001b[0m\n\u001b[0;32m   1418\u001b[0m \u001b[38;5;66;03m# Start the process\u001b[39;00m\n\u001b[0;32m   1419\u001b[0m \u001b[38;5;28;01mtry\u001b[39;00m:\n\u001b[1;32m-> 1420\u001b[0m     hp, ht, pid, tid \u001b[38;5;241m=\u001b[39m \u001b[43m_winapi\u001b[49m\u001b[38;5;241;43m.\u001b[39;49m\u001b[43mCreateProcess\u001b[49m\u001b[43m(\u001b[49m\u001b[43mexecutable\u001b[49m\u001b[43m,\u001b[49m\u001b[43m \u001b[49m\u001b[43margs\u001b[49m\u001b[43m,\u001b[49m\n\u001b[0;32m   1421\u001b[0m \u001b[43m                             \u001b[49m\u001b[38;5;66;43;03m# no special security\u001b[39;49;00m\n\u001b[0;32m   1422\u001b[0m \u001b[43m                             \u001b[49m\u001b[38;5;28;43;01mNone\u001b[39;49;00m\u001b[43m,\u001b[49m\u001b[43m \u001b[49m\u001b[38;5;28;43;01mNone\u001b[39;49;00m\u001b[43m,\u001b[49m\n\u001b[0;32m   1423\u001b[0m \u001b[43m                             \u001b[49m\u001b[38;5;28;43mint\u001b[39;49m\u001b[43m(\u001b[49m\u001b[38;5;129;43;01mnot\u001b[39;49;00m\u001b[43m \u001b[49m\u001b[43mclose_fds\u001b[49m\u001b[43m)\u001b[49m\u001b[43m,\u001b[49m\n\u001b[0;32m   1424\u001b[0m \u001b[43m                             \u001b[49m\u001b[43mcreationflags\u001b[49m\u001b[43m,\u001b[49m\n\u001b[0;32m   1425\u001b[0m \u001b[43m                             \u001b[49m\u001b[43menv\u001b[49m\u001b[43m,\u001b[49m\n\u001b[0;32m   1426\u001b[0m \u001b[43m                             \u001b[49m\u001b[43mcwd\u001b[49m\u001b[43m,\u001b[49m\n\u001b[0;32m   1427\u001b[0m \u001b[43m                             \u001b[49m\u001b[43mstartupinfo\u001b[49m\u001b[43m)\u001b[49m\n\u001b[0;32m   1428\u001b[0m \u001b[38;5;28;01mfinally\u001b[39;00m:\n\u001b[0;32m   1429\u001b[0m     \u001b[38;5;66;03m# Child is launched. Close the parent's copy of those pipe\u001b[39;00m\n\u001b[0;32m   1430\u001b[0m     \u001b[38;5;66;03m# handles that only the child should have open.  You need\u001b[39;00m\n\u001b[1;32m   (...)\u001b[0m\n\u001b[0;32m   1433\u001b[0m     \u001b[38;5;66;03m# pipe will not close when the child process exits and the\u001b[39;00m\n\u001b[0;32m   1434\u001b[0m     \u001b[38;5;66;03m# ReadFile will hang.\u001b[39;00m\n\u001b[0;32m   1435\u001b[0m     \u001b[38;5;28mself\u001b[39m\u001b[38;5;241m.\u001b[39m_close_pipe_fds(p2cread, p2cwrite,\n\u001b[0;32m   1436\u001b[0m                          c2pread, c2pwrite,\n\u001b[0;32m   1437\u001b[0m                          errread, errwrite)\n",
      "\u001b[1;31mFileNotFoundError\u001b[0m: [WinError 2] 지정된 파일을 찾을 수 없습니다"
     ]
    }
   ],
   "source": [
    "from pydub import AudioSegment\n",
    "\n",
    "# m4a 파일을 mp3로 변환\n",
    "audio = AudioSegment.from_file(\"strongcowsound.m4a\", format=\"m4a\")\n",
    "audio.export(\"strongcowsound.mp3\", format=\"mp3\")"
   ]
  },
  {
   "cell_type": "code",
   "execution_count": 1,
   "metadata": {},
   "outputs": [
    {
     "name": "stdout",
     "output_type": "stream",
     "text": [
      "Collecting PyQt5\n",
      "  Downloading PyQt5-5.15.10-cp37-abi3-macosx_10_13_x86_64.whl.metadata (2.1 kB)\n",
      "Collecting PyQt5-sip<13,>=12.13 (from PyQt5)\n",
      "  Downloading PyQt5_sip-12.13.0-cp312-cp312-macosx_10_9_universal2.whl.metadata (504 bytes)\n",
      "Collecting PyQt5-Qt5>=5.15.2 (from PyQt5)\n",
      "  Downloading PyQt5_Qt5-5.15.14-py3-none-macosx_10_13_x86_64.whl.metadata (536 bytes)\n",
      "Downloading PyQt5-5.15.10-cp37-abi3-macosx_10_13_x86_64.whl (7.0 MB)\n",
      "\u001b[2K   \u001b[90m━━━━━━━━━━━━━━━━━━━━━━━━━━━━━━━━━━━━━━━━\u001b[0m \u001b[32m7.0/7.0 MB\u001b[0m \u001b[31m3.3 MB/s\u001b[0m eta \u001b[36m0:00:00\u001b[0m00:01\u001b[0m00:01\u001b[0m\n",
      "\u001b[?25hDownloading PyQt5_Qt5-5.15.14-py3-none-macosx_10_13_x86_64.whl (38.8 MB)\n",
      "\u001b[2K   \u001b[90m━━━━━━━━━━━━━━━━━━━━━━━━━━━━━━━━━━━━━━━━\u001b[0m \u001b[32m38.8/38.8 MB\u001b[0m \u001b[31m3.5 MB/s\u001b[0m eta \u001b[36m0:00:00\u001b[0m00:01\u001b[0m00:01\u001b[0m\n",
      "\u001b[?25hDownloading PyQt5_sip-12.13.0-cp312-cp312-macosx_10_9_universal2.whl (146 kB)\n",
      "\u001b[2K   \u001b[90m━━━━━━━━━━━━━━━━━━━━━━━━━━━━━━━━━━━━━━━━\u001b[0m \u001b[32m146.4/146.4 kB\u001b[0m \u001b[31m2.5 MB/s\u001b[0m eta \u001b[36m0:00:00\u001b[0m00:01\u001b[0m\n",
      "\u001b[?25hInstalling collected packages: PyQt5-Qt5, PyQt5-sip, PyQt5\n",
      "Successfully installed PyQt5-5.15.10 PyQt5-Qt5-5.15.14 PyQt5-sip-12.13.0\n",
      "Note: you may need to restart the kernel to use updated packages.\n"
     ]
    }
   ],
   "source": [
    "pip install PyQt5"
   ]
  },
  {
   "cell_type": "code",
   "execution_count": 2,
   "metadata": {},
   "outputs": [
    {
     "name": "stdout",
     "output_type": "stream",
     "text": [
      "Collecting PyInstaller\n",
      "  Downloading pyinstaller-6.7.0-py3-none-macosx_10_13_universal2.whl.metadata (8.3 kB)\n",
      "Collecting setuptools>=42.0.0 (from PyInstaller)\n",
      "  Downloading setuptools-70.0.0-py3-none-any.whl.metadata (5.9 kB)\n",
      "Collecting altgraph (from PyInstaller)\n",
      "  Downloading altgraph-0.17.4-py2.py3-none-any.whl.metadata (7.3 kB)\n",
      "Collecting pyinstaller-hooks-contrib>=2024.6 (from PyInstaller)\n",
      "  Downloading pyinstaller_hooks_contrib-2024.6-py2.py3-none-any.whl.metadata (16 kB)\n",
      "Requirement already satisfied: packaging>=22.0 in /Users/hoon/Library/Python/3.12/lib/python/site-packages (from PyInstaller) (24.0)\n",
      "Collecting macholib>=1.8 (from PyInstaller)\n",
      "  Downloading macholib-1.16.3-py2.py3-none-any.whl.metadata (11 kB)\n",
      "Downloading pyinstaller-6.7.0-py3-none-macosx_10_13_universal2.whl (960 kB)\n",
      "\u001b[2K   \u001b[90m━━━━━━━━━━━━━━━━━━━━━━━━━━━━━━━━━━━━━━━━\u001b[0m \u001b[32m960.3/960.3 kB\u001b[0m \u001b[31m8.2 MB/s\u001b[0m eta \u001b[36m0:00:00\u001b[0mta \u001b[36m0:00:01\u001b[0m\n",
      "\u001b[?25hDownloading macholib-1.16.3-py2.py3-none-any.whl (38 kB)\n",
      "Downloading altgraph-0.17.4-py2.py3-none-any.whl (21 kB)\n",
      "Downloading pyinstaller_hooks_contrib-2024.6-py2.py3-none-any.whl (339 kB)\n",
      "\u001b[2K   \u001b[90m━━━━━━━━━━━━━━━━━━━━━━━━━━━━━━━━━━━━━━━━\u001b[0m \u001b[32m339.2/339.2 kB\u001b[0m \u001b[31m6.6 MB/s\u001b[0m eta \u001b[36m0:00:00\u001b[0m:00:01\u001b[0m\n",
      "\u001b[?25hDownloading setuptools-70.0.0-py3-none-any.whl (863 kB)\n",
      "\u001b[2K   \u001b[90m━━━━━━━━━━━━━━━━━━━━━━━━━━━━━━━━━━━━━━━━\u001b[0m \u001b[32m863.4/863.4 kB\u001b[0m \u001b[31m12.1 MB/s\u001b[0m eta \u001b[36m0:00:00\u001b[0ma \u001b[36m0:00:01\u001b[0m\n",
      "\u001b[?25hInstalling collected packages: altgraph, setuptools, macholib, pyinstaller-hooks-contrib, PyInstaller\n",
      "Successfully installed PyInstaller-6.7.0 altgraph-0.17.4 macholib-1.16.3 pyinstaller-hooks-contrib-2024.6 setuptools-70.0.0\n",
      "Note: you may need to restart the kernel to use updated packages.\n"
     ]
    }
   ],
   "source": [
    "pip install PyInstaller"
   ]
  },
  {
   "cell_type": "code",
   "execution_count": 3,
   "metadata": {},
   "outputs": [],
   "source": [
    "a = 0"
   ]
  },
  {
   "cell_type": "code",
   "execution_count": 5,
   "metadata": {},
   "outputs": [],
   "source": [
    "def p(d):\n",
    "    d +=1\n",
    "    return d"
   ]
  },
  {
   "cell_type": "code",
   "execution_count": 6,
   "metadata": {},
   "outputs": [
    {
     "data": {
      "text/plain": [
       "1"
      ]
     },
     "execution_count": 6,
     "metadata": {},
     "output_type": "execute_result"
    }
   ],
   "source": [
    "p(a)"
   ]
  },
  {
   "cell_type": "code",
   "execution_count": 7,
   "metadata": {},
   "outputs": [
    {
     "name": "stdout",
     "output_type": "stream",
     "text": [
      "0\n"
     ]
    }
   ],
   "source": [
    "print(a)"
   ]
  },
  {
   "cell_type": "code",
   "execution_count": null,
   "metadata": {},
   "outputs": [],
   "source": [
    "def CONVERTER_to_VIRTUAL_FIELD(field, vfence, hfence):\n",
    "    virtual_field = [[\"NONE_FIELD\" for _ in range(11)] for _ in range(7)]\n",
    "    #field mapping\n",
    "    row_num = 0\n",
    "    for row in field:\n",
    "        col_num = 0\n",
    "        for col in row:\n",
    "            virtual_field[1+row_num*2][1+col_num*2] = col\n",
    "            col_num += 1\n",
    "        row_num += 1\n",
    "    #vfence mapping\n",
    "    for row in vfence:\n",
    "        row_num = 0\n",
    "        for col in row:\n",
    "            col_num = 0\n",
    "            virtual_field[1+row_num*2][1+col_num*2] = col\n",
    "\n",
    "    \n",
    "    return (virtual_field)"
   ]
  },
  {
   "cell_type": "code",
   "execution_count": 1,
   "metadata": {},
   "outputs": [],
   "source": [
    "import sys,os\n",
    "current_dir = os.getcwd()\n",
    "\n",
    "# 경로 추가\n",
    "sys.path.append(os.path.join(current_dir, 'Agricola/Agricola'))\n",
    "sys.path.append(os.path.join(current_dir, 'data'))"
   ]
  },
  {
   "cell_type": "code",
   "execution_count": 2,
   "metadata": {},
   "outputs": [],
   "source": [
    "from Agricola.Agricola.repository.player_status_repository import player_status_repository\n",
    "from Agricola.Agricola.repository.game_status_repository import game_status_repository\n",
    "from Agricola.Agricola.repository.round_status_repository import round_status_repository\n",
    "from Agricola.Agricola.gamestate.game_context import game_context\n",
    "\n"
   ]
  },
  {
   "cell_type": "code",
   "execution_count": 6,
   "metadata": {},
   "outputs": [
    {
     "name": "stdout",
     "output_type": "stream",
     "text": [
      "[0, 0, 0, 0, 0, 0, 0, 0, 0, 0, 0, 0, 0, 0]\n",
      "0\n"
     ]
    }
   ],
   "source": [
    "print(game_status_repository.game_status.round_card_order)\n",
    "print(player_status_repository.player_status[0].resource.food)\n"
   ]
  },
  {
   "cell_type": "code",
   "execution_count": 4,
   "metadata": {},
   "outputs": [
    {
     "data": {
      "text/plain": [
       "'카드 분배가 완료되었습니다. 각자의 카드를 확인해주세요.'"
      ]
     },
     "execution_count": 4,
     "metadata": {},
     "output_type": "execute_result"
    }
   ],
   "source": [
    "game_context.next_state()"
   ]
  },
  {
   "cell_type": "code",
   "execution_count": 7,
   "metadata": {},
   "outputs": [
    {
     "name": "stdout",
     "output_type": "stream",
     "text": [
      "[0, 0, 0, 0, 0, 0, 0, 0, 0, 0, 0, 0, 0, 0]\n",
      "0\n"
     ]
    }
   ],
   "source": [
    "print(game_status_repository.game_status.round_card_order)\n",
    "print(player_status_repository.player_status[0].resource.food)"
   ]
  },
  {
   "cell_type": "code",
   "execution_count": 20,
   "metadata": {},
   "outputs": [
    {
     "name": "stdout",
     "output_type": "stream",
     "text": [
      "0\n",
      "0\n",
      "0\n",
      "0\n"
     ]
    }
   ],
   "source": [
    "print(player_status_repository.player_status[0].resource.food)\n",
    "print(player_status_repository.player_status[1].resource.food)\n",
    "print(player_status_repository.player_status[2].resource.food)\n",
    "print(player_status_repository.player_status[3].resource.food)\n",
    "# print(player_status_repository.player_status[0].worker)\n"
   ]
  },
  {
   "cell_type": "code",
   "execution_count": 4,
   "metadata": {},
   "outputs": [
    {
     "data": {
      "text/plain": [
       "'새 카드가 공개되었습니다. 공개된 카드 : $None'"
      ]
     },
     "execution_count": 4,
     "metadata": {},
     "output_type": "execute_result"
    }
   ],
   "source": [
    "game_context.next_state()\n"
   ]
  },
  {
   "cell_type": "code",
   "execution_count": 11,
   "metadata": {},
   "outputs": [
    {
     "name": "stdout",
     "output_type": "stream",
     "text": [
      "None\n",
      "None\n",
      "None\n",
      "[<class 'Agricola.Agricola.behavior.job.hedger.Hedger'>, <class 'Agricola.Agricola.behavior.job.greengrocer.Greengrocer'>, <class 'Agricola.Agricola.behavior.job.roofer.Roofer'>]\n",
      "[<class 'Agricola.Agricola.behavior.job.priest.Priest'>, <class 'Agricola.Agricola.behavior.job.kiln_baker.KilnBaker'>, <class 'Agricola.Agricola.behavior.job.skilled_bricklayer.SkilledBrickLayer'>]\n",
      "[<class 'Agricola.Agricola.behavior.job.sub_cultivator.SubCultivator'>, <class 'Agricola.Agricola.behavior.job.livestock_dealer.LivestockDealer'>, <class 'Agricola.Agricola.behavior.job.lumberjack.Lumberjack'>]\n",
      "[<class 'Agricola.Agricola.behavior.job.warehouse_manager.WarehouseManager'>, <class 'Agricola.Agricola.behavior.job.magician.Magician'>, <class 'Agricola.Agricola.behavior.job.small_farmer.SmallFarmer'>]\n"
     ]
    }
   ],
   "source": [
    "import sys,os,copy,random\n",
    "# 모듈이 위치한 디렉토리를 지정합니다.\n",
    "import sys,os\n",
    "current_dir = os.getcwd()\n",
    "\n",
    "# 경로 추가\n",
    "sys.path.append(os.path.join(current_dir, 'Agricola/Agricola'))\n",
    "sys.path.append(os.path.join(current_dir, 'data'))\n",
    "sys.dont_write_bytecode = True # pyc 생성 방지\n",
    "from qcr_converter import run_pyrcc5\n",
    "# run_pyrcc5()#QRC 업데이트/\n",
    "\n",
    "from PyQt5 import uic\n",
    "from PyQt5.QtWidgets import *\n",
    "from PyQt5.QtCore import QTimer,Qt\n",
    "import data.MyQRC_rc as MyQRC_rc\n",
    "from PyQt5.QtGui import QFont, QFontDatabase\n",
    "from Agricola.Agricola.repository import player_status_repository,game_status_repository,round_status_repository,undo_repository\n",
    "# from Agricola.Agricola.repository import P ,round_status_repository ,game_status_repository\n",
    "from Agricola.Agricola.entity.field_type import FieldType\n",
    "from Agricola.Agricola.entity.house_type import HouseType\n",
    "from Agricola.Agricola.entity.crop_type import CropType\n",
    "from Agricola.Agricola.entity.animal_type import AnimalType\n",
    "from PyQt5.QtMultimedia import QMediaPlayer, QMediaContent\n",
    "from PyQt5.QtCore import QUrl\n",
    "from Agricola.Agricola.gamestate.game_context import GameContext\n",
    "from data.def_list import *\n",
    "class MainWindowClass() :\n",
    "    def __init__(self) :\n",
    "        super().__init__()\n",
    "# 폰트 파일 로드\n",
    "        self.player_status = player_status_repository.PlayerStatusRepository().player_status\n",
    "        self.game_status = game_status_repository.GameStatusRepository().game_status\n",
    "        self.round_status = round_status_repository.RoundStatusRepository().round_status\n",
    "        # self.game_context = GameContext(self.game_status,self.player_status,self.round_status)\n",
    "        from Agricola.Agricola.gameready import start_resource_distribution,round_card_shuffle\n",
    "        print(StartResourceDistribution(self))# 리소스 할당\n",
    "        print(RoundCardShuffle(self))\n",
    "        print(CardDistribution(self))\n",
    "        # print(self.player_status[0].worker)\n",
    "        # print(self.player_status[1].worker)\n",
    "        # print(self.player_status[2].worker)\n",
    "        # print(self.player_status[3].worker)\n",
    "        # self.game_context.next_state()\n",
    "        for i in range(4):\n",
    "            print(self.player_status[i].card.start_job_card)\n",
    "        self.player_status[0].card.start_job_card = copy.deepcopy(self.player_status[0].card.hand_job_card)\n",
    "        self.player_status[1].card.start_job_card = copy.deepcopy(self.player_status[1].card.hand_job_card)\n",
    "        self.player_status[2].card.start_job_card = copy.deepcopy(self.player_status[2].card.hand_job_card)\n",
    "        self.player_status[3].card.start_job_card = copy.deepcopy(self.player_status[3].card.hand_job_card)\n",
    "\n",
    "        self.player_status[0].card.start_sub_card = copy.deepcopy(self.player_status[0].card.hand_sub_card)\n",
    "        self.player_status[1].card.start_sub_card = copy.deepcopy(self.player_status[1].card.hand_sub_card)\n",
    "        self.player_status[2].card.start_sub_card = copy.deepcopy(self.player_status[2].card.hand_sub_card)\n",
    "        self.player_status[3].card.start_sub_card = copy.deepcopy(self.player_status[3].card.hand_sub_card)\n",
    "c = MainWindowClass()"
   ]
  },
  {
   "cell_type": "code",
   "execution_count": 16,
   "metadata": {},
   "outputs": [
    {
     "data": {
      "text/plain": [
       "True"
      ]
     },
     "execution_count": 16,
     "metadata": {},
     "output_type": "execute_result"
    }
   ],
   "source": [
    "from Agricola.Agricola.gamestate.game_end_state import GameEndState\n",
    "from Agricola.Agricola.gamestate.game_start_state import GameStartState\n",
    "from Agricola.Agricola.gamestate.harvest_player_breeding_turn_state import HarvestPlayerBreedingTurnState\n",
    "from Agricola.Agricola.gamestate.harvest_player_feeding_turn_state import HarvestPlayerFeedingTurnState\n",
    "from Agricola.Agricola.gamestate.harvest_start_state import HarvestStartState\n",
    "from Agricola.Agricola.gamestate.harvest_turn_end_state import HarvestTurnEndState\n",
    "from Agricola.Agricola.gamestate.harvest_turn_start_state import HarvestTurnStartState\n",
    "from Agricola.Agricola.gamestate.player_turn_state import PlayerTurnState\n",
    "from Agricola.Agricola.gamestate.card_distribution_state import CardDistributionState\n",
    "from Agricola.Agricola.gamestate.round_end_state import RoundEndState\n",
    "from Agricola.Agricola.gamestate.round_start_state import RoundStartState\n",
    "from Agricola.Agricola.gamestate.state import State\n",
    "from Agricola.Agricola.gamestate.turn_end_state import TurnEndState\n",
    "from Agricola.Agricola.gamestate.turn_start_state import TurnStartState\n",
    "c.player_status[2].card.start_job_card[0] == SubCultivator\n"
   ]
  },
  {
   "cell_type": "code",
   "execution_count": null,
   "metadata": {},
   "outputs": [],
   "source": [
    "CARD_JOB_CONVERTER = {Greengrocer:0,Hedger:1,KilnBaker:2,LivestockDealer:3,Lumberjack:4,Magician:5,Priest:6,Roofer:7,SkilledBrickLayer:8,SmallFarmer:9,SubCultivator:10,WarehouseManager:11}\n",
    "CARD_SUB_CONVERTER = {Basket:0,Bottle:1,Canoe:2,GiantFarm:3,GrainShovel:4,JunkWarehouse:5,LoamMiningSite:6,Manger:7,Pincer:8,Pitchfork:9,SilPan:10,WoolBlanket:11}"
   ]
  },
  {
   "cell_type": "code",
   "execution_count": 21,
   "metadata": {},
   "outputs": [
    {
     "name": "stdout",
     "output_type": "stream",
     "text": [
      "Greengrocer:0,Hedger:1,KilnBaker:2,LivestockDealer:3,Lumberjack:4,Magician:5,Priest:6,Roofer:7,SkilledBrickLayer:8,SmallFarmer:9,SubCultivator:10,WarehouseManager:11,"
     ]
    }
   ],
   "source": [
    "for i in range(12):\n",
    "        if i== 0:\n",
    "            print(\"Greengrocer\",end=\"\")\n",
    "        if i== 1:\n",
    "            print(\"Hedger\",end=\"\")\n",
    "        if i== 2:\n",
    "            print(\"KilnBaker\",end=\"\")\n",
    "        if i== 3:\n",
    "            print(\"LivestockDealer\",end=\"\")\n",
    "        if i== 4:\n",
    "            print(\"Lumberjack\",end=\"\")\n",
    "        if i== 5:\n",
    "            print(\"Magician\",end=\"\")\n",
    "        if i== 6:\n",
    "            print(\"Priest\",end=\"\")\n",
    "        if i== 7:\n",
    "            print(\"Roofer\",end=\"\")\n",
    "        if i== 8:\n",
    "            print(\"SkilledBrickLayer\",end=\"\")\n",
    "        if i== 9:\n",
    "            print(\"SmallFarmer\",end=\"\")\n",
    "        if i== 10:\n",
    "            print(\"SubCultivator\",end=\"\")\n",
    "        if i== 11:\n",
    "            print(\"WarehouseManager\",end=\"\")\n",
    "        print(F\":{i},\",end=\"\")\n"
   ]
  },
  {
   "cell_type": "code",
   "execution_count": null,
   "metadata": {},
   "outputs": [],
   "source": [
    "from Agricola.Agricola.entity.player_status import PlayerStatus\n",
    "\n",
    "def CONVERTER_to_VIRTUAL_FIELD(player_status):\n",
    "    field = player_status.farm.field\n",
    "    vfence = player_status.farm.vertical_fence\n",
    "    hfence = player_status.farm.horizon_fence\n",
    "    virtual_field = [[FieldType.NONE_FIELD for _ in range(11)] for _ in range(7)]\n",
    "    #field mapping\n",
    "    row_num = 0\n",
    "    for row in field:\n",
    "        col_num = 0\n",
    "        for col in row:\n",
    "            virtual_field[1+row_num*2][1+col_num*2] = col\n",
    "            col_num += 1\n",
    "        row_num += 1\n",
    "\n",
    "    #vfence mapping\n",
    "    row_num = 0\n",
    "    for row in vfence:\n",
    "        col_num = 0\n",
    "        for col in row:\n",
    "            # if col : virtual_field[row_num*2][1+col_num*2] = True\n",
    "            # else: virtual_field[row_num*2][1+col_num*2] = False\n",
    "            virtual_field[row_num*2][1+col_num*2] = col\n",
    "            col_num += 1\n",
    "        row_num += 1\n",
    "\n",
    "    #hfence mapping\n",
    "    row_num = 0\n",
    "    for row in hfence:\n",
    "        col_num = 0\n",
    "        for col in row:\n",
    "            # if col : virtual_field[1+row_num*2][col_num*2] = True\n",
    "            # else: virtual_field[1+row_num*2][col_num*2] = False\n",
    "            virtual_field[1+row_num*2][col_num*2] = col\n",
    "            col_num += 1\n",
    "        row_num += 1\n",
    "    return virtual_field"
   ]
  },
  {
   "cell_type": "code",
   "execution_count": null,
   "metadata": {},
   "outputs": [],
   "source": [
    "라운드순서배정결과 = [1, 2, 0, 3, 5, 6, 4, 8, 7, 10, 9, 12, 11, 13]\n",
    "for i, order in enumerate(라운드순서배정결과):\n",
    "    if i in [1, 5, 8, 9, 10]:\n",
    "        myWindow.game_status.round_resource[i] -= order-1"
   ]
  },
  {
   "cell_type": "code",
   "execution_count": 9,
   "metadata": {},
   "outputs": [
    {
     "name": "stdout",
     "output_type": "stream",
     "text": [
      "[[<entity.player_status.PlayerStatus object at 0x000002455522E390>, <entity.player_status.PlayerStatus object at 0x0000024554FA3AA0>, <entity.player_status.PlayerStatus object at 0x0000024555C9EF60>, <entity.player_status.PlayerStatus object at 0x0000024555C9C7D0>], <entity.game_status.GameStatus object at 0x0000024555C9CB60>, <entity.round_status.RoundStatus object at 0x0000024555C9FF50>]\n"
     ]
    }
   ],
   "source": [
    "import sys,os\n",
    "current_dir = os.getcwd()\n",
    "\n",
    "# 경로 추가\n",
    "sys.path.append(os.path.join(current_dir, 'Agricola_Back/Agricola'))\n",
    "sys.path.append(os.path.join(current_dir, 'data'))\n",
    "import pickle\n",
    "from round_event import *\n",
    "from list_import import *\n",
    "# 파일에서 데이터 객체 읽기import sys,os,copy,random,traceback\n",
    "# 모듈이 위치한 디렉토리를 지정합니다.\n",
    "\n",
    "with open(r'C:\\Users\\js000\\OneDrive\\문서\\GitHub\\Agricola-Front_ui-images-py\\Agricola_Front\\main.pkl', 'rb') as file:\n",
    "    loaded_data = pickle.load(file)\n",
    "\n",
    "print(loaded_data)\n"
   ]
  },
  {
   "cell_type": "code",
   "execution_count": 10,
   "metadata": {},
   "outputs": [],
   "source": [
    "player_status = loaded_data[0]\n",
    "game_status = loaded_data[1]\n"
   ]
  },
  {
   "cell_type": "code",
   "execution_count": 22,
   "metadata": {},
   "outputs": [],
   "source": [
    "def asdfa(player_status,game_status):\n",
    "        field_status = player_status[game_status.now_turn_player].farm.field\n",
    "        vertical_fence = player_status[game_status.now_turn_player].farm.vertical_fence\n",
    "        horizontal_fence = player_status[game_status.now_turn_player].farm.horizon_fence\n",
    "\n",
    "        expanded_field = [[FieldType.NONE_FIELD for i in range(11)] for i in range(7)]\n",
    "        for i in range(3):\n",
    "            for j in range(6):\n",
    "                if vertical_fence is True:\n",
    "                    expanded_field[i * 2 + 1][2 * j] = FieldType.FENCE\n",
    "        for i in range(4):\n",
    "            for j in range(5):\n",
    "                if horizontal_fence is True:\n",
    "                    expanded_field[i * 2][j * 2 + 1] = FieldType.FENCE\n",
    "        for i in range(3):\n",
    "            for j in range(5):\n",
    "                expanded_field[i * 2 + 1][j * 2 + 1] = field_status[i][j].field_type\n",
    "        fence_validation = FenceValidation(expanded_field)\n",
    "        print(fence_validation.execute())\n",
    "        if fence_validation.execute():\n",
    "            cost = 0\n",
    "            for i in range(4):\n",
    "                for j in range(5):\n",
    "                    if horizontal_fence is True and player_status[game_status.now_turn_player].farm.horizon_fence[i][j] is False:\n",
    "                        cost += 1\n",
    "            for i in range(3):\n",
    "                for j in range(6):\n",
    "                    if vertical_fence is True and player_status[game_status.now_turn_player].farm.vertical_fence[i][j] is False:\n",
    "                        cost += 1\n",
    "            if cost > player_status[game_status.now_turn_player].resource.wood:\n",
    "                log_text = \"나무가 모자랍니다.\"\n",
    "                return False\n",
    "            if not CreateCage(field_status, vertical_fence, horizontal_fence):\n",
    "                log_text = \"잘못된 동물 배치\"\n",
    "                return False\n",
    "            player_status[game_status.now_turn_player].resource.wood -= cost\n",
    "            log_text = \"울타리 건설 성공\"\n",
    "            return True\n",
    "        else:\n",
    "            log_text = \"울타리 건설 검증에 실패했습니다\"\n",
    "            return False"
   ]
  },
  {
   "cell_type": "code",
   "execution_count": 45,
   "metadata": {},
   "outputs": [
    {
     "name": "stdout",
     "output_type": "stream",
     "text": [
      "NONE\n"
     ]
    }
   ],
   "source": [
    "from entity.field_type import FieldType\n",
    "print(AnimalType.NONE.name)"
   ]
  },
  {
   "cell_type": "code",
   "execution_count": 23,
   "metadata": {},
   "outputs": [
    {
     "name": "stdout",
     "output_type": "stream",
     "text": [
      "True\n"
     ]
    },
    {
     "data": {
      "text/plain": [
       "True"
      ]
     },
     "execution_count": 23,
     "metadata": {},
     "output_type": "execute_result"
    }
   ],
   "source": [
    "asdfa(player_status,game_status)"
   ]
  },
  {
   "cell_type": "code",
   "execution_count": 31,
   "metadata": {},
   "outputs": [],
   "source": [
    "def convert_expended(game_status,player_status):\n",
    "    field_status = player_status[game_status.now_turn_player].farm.field\n",
    "    vertical_fence = player_status[game_status.now_turn_player].farm.vertical_fence\n",
    "    horizontal_fence = player_status[game_status.now_turn_player].farm.horizon_fence\n",
    "    expanded_field = [[FieldType.NONE_FIELD for i in range(11)] for i in range(7)]\n",
    "    for i in range(3):\n",
    "        for j in range(6):\n",
    "            if vertical_fence is True:\n",
    "                expanded_field[i * 2 + 1][2 * j] = FieldType.FENCE\n",
    "    for i in range(4):\n",
    "        for j in range(5):\n",
    "            if horizontal_fence is True:\n",
    "                expanded_field[i * 2][j * 2 + 1] = FieldType.FENCE\n",
    "    for i in range(3):\n",
    "        for j in range(5):\n",
    "            expanded_field[i * 2 + 1][j * 2 + 1] = field_status[i][j].field_type\n",
    "    fence_validation = FenceValidation(expanded_field)\n",
    "    return expanded_field"
   ]
  },
  {
   "cell_type": "code",
   "execution_count": 32,
   "metadata": {},
   "outputs": [],
   "source": [
    "def fence_validation(field_status):\n",
    "    \n",
    "    log = []\n",
    "\n",
    "    def check_fence_form():\n",
    "        dx = [0, 0, -1, 1]\n",
    "        dy = [-1, 1, 0, 0]\n",
    "        for i, item in enumerate(field_status):\n",
    "            for j, value in enumerate(item):\n",
    "                if i % 2 == 0 and j % 2 == 0:\n",
    "                    adjacent = 0\n",
    "                    for k in range(4):\n",
    "                        p = i + dx[k]\n",
    "                        q = j + dy[k]\n",
    "                        if p < 0 or q < 0 or p >= 7 or q >= 11:\n",
    "                            continue\n",
    "                        if field_status[p][q] == FieldType.FENCE:\n",
    "                            adjacent += 1\n",
    "                    if adjacent == 1:\n",
    "                        log.append(\"울타리의 형식이 올바르지 않습니다.\")\n",
    "                        return False\n",
    "        return True\n",
    "\n",
    "    def check_connected_component_fence():\n",
    "        expanded_field_status = [[FieldType.NONE_FIELD for i in range(13)]for j in range(9)]\n",
    "        check = [[0 for i in range(13)]for j in range(9)]\n",
    "        for i, item in enumerate(field_status):\n",
    "            for j, value in enumerate(item):\n",
    "                expanded_field_status[i+1][j+1] = value\n",
    "        queue = deque()\n",
    "        dx = [0, 0, -1, 1]\n",
    "        dy = [-1, 1, 0, 0]\n",
    "        check[0][0] = 1\n",
    "        queue.append((0, 0))\n",
    "        while queue:\n",
    "            x, y = queue.popleft()\n",
    "            for i in range(4):\n",
    "                p = x + dx[i]\n",
    "                q = y + dy[i]\n",
    "                r = p + dx[i]\n",
    "                s = q + dy[i]\n",
    "                if 0 <= r < 9 and 0 <= s < 13 and check[r][s] == 0 and expanded_field_status[p][q] != FieldType.FENCE:\n",
    "                    check[r][s] = 1\n",
    "                    queue.append((r, s))\n",
    "        ret = 0\n",
    "        for i in range(0, 9, 2):\n",
    "            for j in range(0, 13, 2):\n",
    "                if (expanded_field_status[i][j] == FieldType.CAGE or expanded_field_status[i][j] == FieldType.NONE_FIELD) \\\n",
    "                        and check[i][j] == 0:\n",
    "                    ret += 1\n",
    "                    check[i][j] = 1\n",
    "                    queue.append((i, j))\n",
    "                    while queue:\n",
    "                        item = queue.popleft()\n",
    "                        for k in range(4):\n",
    "                            nx = item[0] + dx[k] + dx[k]\n",
    "                            ny = item[1] + dy[k] + dy[k]\n",
    "                            if 9 > nx >= 0 == check[nx][ny] and 0 <= ny < 13:\n",
    "                                check[nx][ny] = 1\n",
    "                                queue.append((nx, ny))\n",
    "        if ret > 1:\n",
    "            log.append(\"울타리는 하나로 이어져 있어야 합니다.\")\n",
    "            return False\n",
    "        else:\n",
    "            return True\n",
    "        \n",
    "    def check_inside_object():\n",
    "        expanded_field_status = [[FieldType.NONE_FIELD for i in range(13)]for j in range(9)]\n",
    "        check = [[0 for i in range(13)]for j in range(9)]\n",
    "        for i, item in enumerate(field_status):\n",
    "            for j, value in enumerate(item):\n",
    "                expanded_field_status[i+1][j+1] = value\n",
    "        queue = deque()\n",
    "        check[0][0] = 1\n",
    "        queue.append((0, 0))\n",
    "        while queue:\n",
    "            x, y = queue.popleft()\n",
    "            dx = [0, 0, -1, 1]\n",
    "            dy = [-1, 1, 0, 0]\n",
    "            for i in range(4):\n",
    "                p = x + dx[i]\n",
    "                q = y + dy[i]\n",
    "                r = p + dx[i]\n",
    "                s = q + dy[i]\n",
    "                if 0 <= r < 9 and 0 <= s < 13 and check[r][s] == 0 and expanded_field_status[p][q] != FieldType.FENCE:\n",
    "                    check[r][s] = 1\n",
    "                    queue.append((r, s))\n",
    "        for i in range(0, 9, 2):\n",
    "            for j in range(0, 13, 2):\n",
    "                if check[i][j] == 0 and expanded_field_status[i][j] != FieldType.NONE_FIELD \\\n",
    "                        and expanded_field_status[i][j] != FieldType.CAGE:\n",
    "                    log.append(\"울타리 안에는 외양간을 제외한 다른 구조물이 있을 수 없습니다.\")\n",
    "                    return False\n",
    "        return True\n",
    "\n",
    "    def check_fence_count():\n",
    "        cnt = 0\n",
    "        for fence in field_status:\n",
    "            for value in fence:\n",
    "                if value == FieldType.FENCE:\n",
    "                    cnt += 1\n",
    "        if cnt <= 15:\n",
    "            return True\n",
    "        else:\n",
    "            log.append(\"울타리의 최대 설치 가능 개수는 15개 입니다.\")\n",
    "            return False\n",
    "\n",
    "    return ( check_fence_form() and check_connected_component_fence() and check_inside_object() and check_fence_count() ), log\n"
   ]
  },
  {
   "cell_type": "code",
   "execution_count": 42,
   "metadata": {},
   "outputs": [],
   "source": [
    "game_status.now_turn_player = 0"
   ]
  },
  {
   "cell_type": "code",
   "execution_count": 43,
   "metadata": {},
   "outputs": [
    {
     "data": {
      "text/plain": [
       "(True, [])"
      ]
     },
     "execution_count": 43,
     "metadata": {},
     "output_type": "execute_result"
    }
   ],
   "source": [
    "fence_validation(convert_expended(game_status,player_status))"
   ]
  },
  {
   "cell_type": "code",
   "execution_count": null,
   "metadata": {},
   "outputs": [],
   "source": []
  }
 ],
 "metadata": {
  "kernelspec": {
   "display_name": "Python 3",
   "language": "python",
   "name": "python3"
  },
  "language_info": {
   "codemirror_mode": {
    "name": "ipython",
    "version": 3
   },
   "file_extension": ".py",
   "mimetype": "text/x-python",
   "name": "python",
   "nbconvert_exporter": "python",
   "pygments_lexer": "ipython3",
   "version": "3.12.4"
  }
 },
 "nbformat": 4,
 "nbformat_minor": 2
}
