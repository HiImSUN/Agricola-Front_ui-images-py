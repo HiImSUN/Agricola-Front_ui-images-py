{
 "cells": [
  {
   "cell_type": "code",
   "execution_count": 1,
   "metadata": {},
   "outputs": [],
   "source": [
    "from enum import Enum\n",
    "class FieldType(Enum):\n",
    "    NONE_FIELD = 0\n",
    "    ARABLE = 1\n",
    "    CAGE = 2\n",
    "    HOUSE = 3\n",
    "    FENCE = 4"
   ]
  },
  {
   "cell_type": "code",
   "execution_count": 2,
   "metadata": {},
   "outputs": [],
   "source": [
    "a= FieldType.NONE_FIELD"
   ]
  },
  {
   "cell_type": "code",
   "execution_count": 3,
   "metadata": {},
   "outputs": [
    {
     "name": "stdout",
     "output_type": "stream",
     "text": [
      "NONE_FIELD\n",
      "0\n"
     ]
    }
   ],
   "source": [
    "print(a.name)\n",
    "print(a.value)"
   ]
  },
  {
   "cell_type": "code",
   "execution_count": 11,
   "metadata": {},
   "outputs": [],
   "source": [
    "import random\n",
    "rand = [1,2,3]\n",
    "random.shuffle(rand)"
   ]
  },
  {
   "cell_type": "code",
   "execution_count": 12,
   "metadata": {},
   "outputs": [
    {
     "data": {
      "text/plain": [
       "[3, 1, 2]"
      ]
     },
     "execution_count": 12,
     "metadata": {},
     "output_type": "execute_result"
    }
   ],
   "source": [
    "rand"
   ]
  },
  {
   "cell_type": "code",
   "execution_count": 1,
   "metadata": {},
   "outputs": [
    {
     "name": "stdout",
     "output_type": "stream",
     "text": [
      "2 번째 로그\n",
      "3 번째 로그\n",
      "4 번째 로그\n",
      "5 번째 로그\n",
      "6 번째 로그\n"
     ]
    }
   ],
   "source": [
    "class Logger:\n",
    "    def __init__(self, max_lines=5):\n",
    "        self.max_lines = max_lines\n",
    "        self.log_list = []\n",
    "\n",
    "    def add_log(self, new_message):\n",
    "        # 새로운 메시지 추가\n",
    "        self.log_list.append(new_message)\n",
    "        \n",
    "        # 로그가 최대 줄 수를 넘으면 가장 오래된 로그 삭제\n",
    "        if len(self.log_list) > self.max_lines:\n",
    "            self.log_list.pop(0)\n",
    "    \n",
    "    def get_logs(self):\n",
    "        # 현재 저장된 모든 로그를 하나의 문자열로 반환\n",
    "        return \"\\n\".join(self.log_list)\n",
    "\n",
    "# Logger 객체 생성\n",
    "logger = Logger()\n",
    "\n",
    "# 로그 함수 테스트\n",
    "logger.add_log(\"1\")\n",
    "logger.add_log(\"2 번째 로그\")\n",
    "logger.add_log(\"3 번째 로그\")\n",
    "logger.add_log(\"4 번째 로그\")\n",
    "logger.add_log(\"5 번째 로그\")\n",
    "logger.add_log(\"6 번째 로그\")\n",
    "\n",
    "# 저장된 로그 출력\n",
    "print(logger.get_logs())"
   ]
  },
  {
   "cell_type": "code",
   "execution_count": 12,
   "metadata": {},
   "outputs": [],
   "source": [
    "\n",
    "def gamestart():pass\n",
    "def move_worker_to_roundcard(player,roundcard_index):\n",
    "    return True\n",
    "def move_animal_to_field(animal,filed_index):\n",
    "    return True\n",
    "# def ():pass\n",
    "# def ():pass\n",
    "# def ():pass\n",
    "# def ():pass\n",
    "# def ():pass\n",
    "# def ():pass\n",
    "# def ():pass\n",
    "\n"
   ]
  },
  {
   "cell_type": "code",
   "execution_count": 13,
   "metadata": {},
   "outputs": [],
   "source": [
    "gamestart()"
   ]
  },
  {
   "cell_type": "code",
   "execution_count": 14,
   "metadata": {},
   "outputs": [],
   "source": [
    "while True:\n",
    "    if move_worker_to_roundcard(1,1):break"
   ]
  },
  {
   "cell_type": "code",
   "execution_count": 15,
   "metadata": {},
   "outputs": [],
   "source": [
    "#양 두마리를 얻었다고 가정"
   ]
  },
  {
   "cell_type": "code",
   "execution_count": 16,
   "metadata": {},
   "outputs": [],
   "source": [
    "while True:\n",
    "    if move_animal_to_field(\"sheep\",1):break"
   ]
  },
  {
   "cell_type": "code",
   "execution_count": null,
   "metadata": {},
   "outputs": [],
   "source": []
  }
 ],
 "metadata": {
  "kernelspec": {
   "display_name": "Python 3",
   "language": "python",
   "name": "python3"
  },
  "language_info": {
   "codemirror_mode": {
    "name": "ipython",
    "version": 3
   },
   "file_extension": ".py",
   "mimetype": "text/x-python",
   "name": "python",
   "nbconvert_exporter": "python",
   "pygments_lexer": "ipython3",
   "version": "3.9.12"
  }
 },
 "nbformat": 4,
 "nbformat_minor": 2
}
